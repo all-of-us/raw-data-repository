{
 "cells": [
  {
   "cell_type": "code",
   "execution_count": null,
   "metadata": {
    "collapsed": false
   },
   "outputs": [],
   "source": [
    "import json\n",
    "import os\n",
    "import sys\n",
    "import google\n",
    "from collections import namedtuple\n",
    "from sqlalchemy.orm import joinedload, lazyload"
   ]
  },
  {
   "cell_type": "code",
   "execution_count": null,
   "metadata": {
    "collapsed": false
   },
   "outputs": [],
   "source": [
    "PATHS = ! source ./set_path.sh && echo $PYTHONPATH\n",
    "sys.path += PATHS[0].split(\":\")\n",
    "\n",
    "GAE_PATH = ! source ./set_path.sh && echo $GAE_SDK_ROOT\n",
    "google.__path__.append(os.path.join(GAE_PATH[0], 'google'))"
   ]
  },
  {
   "cell_type": "code",
   "execution_count": null,
   "metadata": {
    "collapsed": false
   },
   "outputs": [],
   "source": [
    "from model.participant import Participant\n",
    "from model.code import Code\n",
    "from model.participant_summary import ParticipantSummary\n",
    "from model.questionnaire import QuestionnaireHistory, QuestionnaireConcept\n",
    "from dao.questionnaire_dao import QuestionnaireDao, Questionnaire\n",
    "from dao.questionnaire_response_dao import QuestionnaireResponseDao, QuestionnaireResponse, QuestionnaireResponseAnswer\n",
    "from dao.code_dao import CodeDao"
   ]
  }
 ],
 "metadata": {
  "kernelspec": {
   "display_name": "Python 2",
   "language": "python",
   "name": "python2"
  },
  "language_info": {
   "codemirror_mode": {
    "name": "ipython",
    "version": 2
   },
   "file_extension": ".py",
   "mimetype": "text/x-python",
   "name": "python",
   "nbconvert_exporter": "python",
   "pygments_lexer": "ipython2",
   "version": "2.7.6"
  }
 },
 "nbformat": 4,
 "nbformat_minor": 1
}
